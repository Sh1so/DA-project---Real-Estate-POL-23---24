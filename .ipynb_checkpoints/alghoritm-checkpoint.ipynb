{
 "cells": [
  {
   "cell_type": "code",
   "execution_count": 18,
   "id": "ef7c9fb9",
   "metadata": {},
   "outputs": [],
   "source": [
    "# Importing some data analysis libraries\n",
    "import numpy as np\n",
    "import pandas as pd"
   ]
  },
  {
   "cell_type": "code",
   "execution_count": 23,
   "id": "666c5ae5",
   "metadata": {},
   "outputs": [
    {
     "name": "stdout",
     "output_type": "stream",
     "text": [
      "Succesfully added date column to file: apartments_pl_2023_8.csv\n",
      "Succesfully added date column to file: apartments_pl_2023_9.csv\n",
      "Succesfully added date column to file: apartments_pl_2023_10.csv\n",
      "Succesfully added date column to file: apartments_pl_2023_11.csv\n",
      "Succesfully added date column to file: apartments_pl_2023_12.csv\n",
      "Succesfully added date column to file: apartments_pl_2024_1.csv\n",
      "Succesfully added date column to file: apartments_pl_2024_2.csv\n",
      "Succesfully added date column to file: apartments_pl_2024_3.csv\n",
      "Succesfully added date column to file: apartments_pl_2024_4.csv\n",
      "Succesfully added date column to file: apartments_pl_2024_5.csv\n",
      "Succesfully added date column to file: apartments_pl_2024_6.csv\n"
     ]
    }
   ],
   "source": [
    "# Declaring two variables that can be used to opening and editing data files\n",
    "month = 8\n",
    "year = 2023\n",
    "\n",
    "# Loop through all of files\n",
    "while not (month == 7 and year == 2024):\n",
    "    df = pd.read_csv(f\"apartments_pl_{year}_{month}.csv\")\n",
    "    df[\"offerDate\"] = f\"{month}/31/{year}\"\n",
    "    df.to_csv(f\"apartments_pl_{year}_{month}.csv\", index = False)\n",
    "    print(\"Succesfully added date column to file: \" + f\"apartments_pl_{year}_{month}.csv\")\n",
    "    if (year == 2023 and month == 12):\n",
    "        month = 1\n",
    "        year = 2024\n",
    "    else:\n",
    "        month += 1\n",
    "    "
   ]
  },
  {
   "cell_type": "code",
   "execution_count": null,
   "id": "c9ee3840",
   "metadata": {},
   "outputs": [],
   "source": []
  }
 ],
 "metadata": {
  "kernelspec": {
   "display_name": "Python 3 (ipykernel)",
   "language": "python",
   "name": "python3"
  },
  "language_info": {
   "codemirror_mode": {
    "name": "ipython",
    "version": 3
   },
   "file_extension": ".py",
   "mimetype": "text/x-python",
   "name": "python",
   "nbconvert_exporter": "python",
   "pygments_lexer": "ipython3",
   "version": "3.11.3"
  }
 },
 "nbformat": 4,
 "nbformat_minor": 5
}
